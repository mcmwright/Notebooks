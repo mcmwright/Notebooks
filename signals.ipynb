{
 "cells": [
  {
   "cell_type": "markdown",
   "metadata": {},
   "source": [
    "# Signals\n",
    "In this notebook we're going to use a 'magic' command to import all of numpy as well as the plotting package matplotlib at once, while setting it up to produce graphics inside the notebook. This leads to a very crowded namespace, so it isn't usually recommended, but it does allow us to focus on what the functions do rather than where they came from."
   ]
  },
  {
   "cell_type": "code",
   "execution_count": null,
   "metadata": {
    "collapsed": true
   },
   "outputs": [],
   "source": [
    "%pylab inline"
   ]
  },
  {
   "cell_type": "markdown",
   "metadata": {},
   "source": [
    "Let's use NumPy's arange() function to create an array representing half a second of time sampled at 4000 Hz, and then create a 150 Hz sin wave with an amplitude of 0.3 for its duration."
   ]
  },
  {
   "cell_type": "code",
   "execution_count": null,
   "metadata": {
    "collapsed": true
   },
   "outputs": [],
   "source": [
    "Fs = 4000\n",
    "t = arange(0, 0.5, 1.0/4000)\n",
    "x = 0.3*sin(2*pi*150*t)"
   ]
  },
  {
   "cell_type": "markdown",
   "metadata": {},
   "source": [
    "Now we'll plot it to see if it looks right."
   ]
  },
  {
   "cell_type": "code",
   "execution_count": null,
   "metadata": {
    "collapsed": true
   },
   "outputs": [],
   "source": [
    "plot(t, x)"
   ]
  },
  {
   "cell_type": "markdown",
   "metadata": {},
   "source": [
    "That's rather hard to see so let's just plot part of it."
   ]
  },
  {
   "cell_type": "code",
   "execution_count": null,
   "metadata": {
    "collapsed": true
   },
   "outputs": [],
   "source": [
    "plot(t[0:200], x[0:200])"
   ]
  },
  {
   "cell_type": "markdown",
   "metadata": {},
   "source": [
    "Check that the result has the number of periods you’d expect\n",
    "for a twentieth of a second of a 150 Hz tone. The curve looks\n",
    "reasonably smooth but in fact it’s made up of straight line segments\n",
    "joining up the data points you’ve given it. To see where\n",
    "those points we'll just plot the points, and we'll label the axes too."
   ]
  },
  {
   "cell_type": "code",
   "execution_count": null,
   "metadata": {
    "collapsed": true
   },
   "outputs": [],
   "source": [
    "plot(t[0:200], x[0:200], '.')\n",
    "xlabel(\"Time (s)\")\n",
    "ylabel(\"Pressure (Pa)\")"
   ]
  },
  {
   "cell_type": "markdown",
   "metadata": {},
   "source": [
    "We can estimate the power spectrum $S_{xx}( f )$ of our signal by\n",
    "taking its Fourier transform and multiplying the result by its\n",
    "conjugate and normalising by the number of data points."
   ]
  },
  {
   "cell_type": "code",
   "execution_count": null,
   "metadata": {
    "collapsed": true
   },
   "outputs": [],
   "source": [
    "N = len(x)\n",
    "X = fft.fft(x)              # Fast Fourier Transform which lives in the fft sub-package\n",
    "Sxx = real(X*conj(X))/N     # Should be real anyway, but finite-precision errors can cause a small imaginary part"
   ]
  },
  {
   "cell_type": "markdown",
   "metadata": {},
   "source": [
    "To plot it we need to define the values on the frequency axis."
   ]
  },
  {
   "cell_type": "code",
   "execution_count": null,
   "metadata": {
    "collapsed": true
   },
   "outputs": [],
   "source": [
    "df = Fs/N\n",
    "f =  arange(0, Fs, df)\n",
    "plot(f, Sxx)"
   ]
  },
  {
   "cell_type": "markdown",
   "metadata": {},
   "source": [
    "This shows that the results are ‘aliased’ above the Nyquist frequency\n",
    "(half the sampling frequency) so we’ll just plot the data below\n",
    "that, and we’ll use a version of plot that uses a logarithmic $y$-axis."
   ]
  },
  {
   "cell_type": "code",
   "execution_count": null,
   "metadata": {
    "collapsed": true
   },
   "outputs": [],
   "source": [
    "plot(f[0:N//2], Sxx[0:N//2])  # Note // rather than / because indexes must be integers\n",
    "yscale('log')\n",
    "xlabel(\"Frequency (Hz)\")\n",
    "ylabel(\"Power spectrum\")"
   ]
  },
  {
   "cell_type": "markdown",
   "metadata": {},
   "source": [
    "Rather than using logarithmic axes it's usually better to calculate decibels."
   ]
  },
  {
   "cell_type": "code",
   "execution_count": null,
   "metadata": {
    "collapsed": true
   },
   "outputs": [],
   "source": [
    "plot(f[0:N//2], 20*log10(Sxx[0:N//2]))  # Note // rather than / because indexes must be integers\n",
    "xlabel(\"Frequency (Hz)\")\n",
    "ylabel(\"Power spectrum (dB)\")"
   ]
  },
  {
   "cell_type": "markdown",
   "metadata": {},
   "source": [
    "**Note** This isn't the best way to calculate power spectra, but we're doing it this way to illustrate the use of NumPy functions. "
   ]
  },
  {
   "cell_type": "code",
   "execution_count": null,
   "metadata": {
    "collapsed": true
   },
   "outputs": [],
   "source": [
    "from scipy import signal\n",
    "(fp, Pxx) = signal.periodogram(x, Fs)\n",
    "plot(fp, 20*log10(Pxx))\n",
    "ylim(-200, 0)"
   ]
  },
  {
   "cell_type": "markdown",
   "metadata": {},
   "source": [
    "The difference in amplitude is because we're now calclulating Power Spectral Density, rather than the raw spectrum."
   ]
  }
 ],
 "metadata": {
  "kernelspec": {
   "display_name": "Python 2",
   "language": "python",
   "name": "python2"
  },
  "language_info": {
   "codemirror_mode": {
    "name": "ipython",
    "version": 2
   },
   "file_extension": ".py",
   "mimetype": "text/x-python",
   "name": "python",
   "nbconvert_exporter": "python",
   "pygments_lexer": "ipython2",
   "version": "2.7.10"
  }
 },
 "nbformat": 4,
 "nbformat_minor": 0
}
