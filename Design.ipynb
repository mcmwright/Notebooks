{
 "cells": [
  {
   "cell_type": "markdown",
   "metadata": {},
   "source": [
    "# Designing sound control systems"
   ]
  },
  {
   "cell_type": "code",
   "execution_count": 1,
   "metadata": {
    "collapsed": false,
    "scrolled": true
   },
   "outputs": [
    {
     "name": "stdout",
     "output_type": "stream",
     "text": [
      "Using matplotlib backend: Qt4Agg\n",
      "Populating the interactive namespace from numpy and matplotlib\n"
     ]
    }
   ],
   "source": [
    "%pylab\n",
    "from mpl_toolkits.mplot3d import Axes3D\n",
    "import matplotlib.animation as animation"
   ]
  },
  {
   "cell_type": "markdown",
   "metadata": {},
   "source": [
    "In the previous notebook we explored the time-harmonic wavefield with $P(x,y) = e^{-ikr}/r$ where $r$ is distance from the origin. In this notebook we'll be examining the effect superimposing two 'point sources' like this, one of which we'll call the primary source and one the secondary. We will therefore have:\n",
    "$$ P(\\mathbf{x}) = A_p \\frac{e^{-ikr_p}}{r_p} + A_s\\frac{e^{-ikr_s}}{r_s}.$$\n",
    "\n",
    "$A_p$ and $A_s$ are the complex amlitudes of the two sources and $r_p$ and $r_s$  are distances from the sources which are located at $\\mathbf{x}_p = (x_p, y_p, 0)$ and $\\mathbf{x}_s = (x_s, y_s, 0)$.   We can animate this interference field but first we'll define a new function to save some typing:"
   ]
  },
  {
   "cell_type": "code",
   "execution_count": 2,
   "metadata": {
    "collapsed": true
   },
   "outputs": [],
   "source": [
    "def circspace(N):\n",
    "    return linspace(0, 2*pi*(1 - 1/N),N)"
   ]
  },
  {
   "cell_type": "markdown",
   "metadata": {},
   "source": [
    "We'll use tuples to store the $x$ and $y$ co-ordinates of $\\mathbf{x}_p$ and $\\mathbf{x}_s$."
   ]
  },
  {
   "cell_type": "code",
   "execution_count": 47,
   "metadata": {
    "collapsed": true
   },
   "outputs": [],
   "source": [
    "x, y = meshgrid(linspace(-5, 5, 150), linspace(-5, 5, 150))\n",
    "xp = (0, 5) # Primary source\n",
    "xs = (5, 0) # Secondary source\n",
    "As = 1;\n",
    "As = 1;\n",
    "rs = sqrt((x - xs[0])**2 + (y - xs[1])**2)\n",
    "rp = sqrt((x - xp[0])**2 + (y - xp[1])**2)\n",
    "fig = figure()\n",
    "Nframes = 50\n",
    "ims = []\n",
    "k = 2*pi/1.5\n",
    "P = Ap*exp(-1j*k*rp)/rp + As*exp(-1j*k*rs)/rs\n",
    "\n",
    "for wt in circspace(Nframes):\n",
    "    p = real(exp(1j*wt)*P)\n",
    "    ims.append([pcolormesh(x, y, p, cmap=cm.coolwarm)])\n",
    "    clim(-1,1)\n",
    "    axis('equal')\n",
    "    axis('off')\n",
    "\n",
    "ani = animation.ArtistAnimation(fig, ims, interval=100)\n",
    "show()"
   ]
  },
  {
   "cell_type": "markdown",
   "metadata": {},
   "source": [
    "### Exercises\n",
    "1. Explore the effect of changing the real and imaginary parts of $A_s$.\n",
    "2. Explore the effect of moving the sources closer and further apart."
   ]
  },
  {
   "cell_type": "markdown",
   "metadata": {},
   "source": [
    "## Active control\n",
    "Suppose we have a microphone at a location $\\mathbf{x}_m$ and we want to adjust $A_s$ to minimise the sound it detects. In particular we want to  minimise $W_m = |P(\\mathbf{x}_m)|^2$ which is proportional to the sound power at the microphone. Because it's proportional minimizing it will minimize the true sound power. We'll (incorrectly) refer to $W_m$ as the sound power from now on - you'll learn the exact expression in your Acoustics lectures. We can explore how this quantity varies with $\\Re\\{A_s\\}$ as $\\Im\\{A_s\\}$ like this:"
   ]
  },
  {
   "cell_type": "code",
   "execution_count": 48,
   "metadata": {
    "collapsed": false
   },
   "outputs": [
    {
     "data": {
      "text/plain": [
       "(-2.0, 2.0, -2.0, 2.0)"
      ]
     },
     "execution_count": 48,
     "metadata": {},
     "output_type": "execute_result"
    }
   ],
   "source": [
    "xp = (0, 5)                     # Primary source\n",
    "xs = (5, 0)                     # Secondary source\n",
    "xm = (0, 0)                     # Microphone position\n",
    "rsm = sqrt((xm[0] - xs[0])**2 + (xm[1] - xs[1])**2)\n",
    "rpm = sqrt((xm[0] - xp[0])**2 + (xm[1] - xp[1])**2)\n",
    "N = 50                          # Number of steps\n",
    "Ap = 1\n",
    "As_space = linspace(-2, 2, N)\n",
    "Asr, Asi = meshgrid(As_space, As_space)\n",
    "Wm = zeros_like(Asr)\n",
    "\n",
    "for i in range(len(As_space)):\n",
    "    for j in range(len(As_space)):\n",
    "        Pm = Ap*exp(-1j*k*rpm)/rpm + (Asr[i, j] +1j*Asi[i, j])*exp(-1j*k*rsm)/rsm\n",
    "        Wm[i, j] = absolute(Pm)**2\n",
    "\n",
    "fig = figure()\n",
    "ax = fig.gca(projection='3d')\n",
    "surf = ax.plot_surface(Asr, Asi, Wm, rstride=1, cstride=1, cmap=cm.cool)\n",
    "xlabel('Real')\n",
    "ylabel('Imaginary')\n",
    "axis('equal')\n",
    "\n",
    "#contour(Asr, Asi, Wm)\n"
   ]
  },
  {
   "cell_type": "markdown",
   "metadata": {},
   "source": [
    "If we make a function that returns $W_m$ when given an array containing the real and imaginary parts of $A_s$ and some other arguments:"
   ]
  },
  {
   "cell_type": "code",
   "execution_count": 41,
   "metadata": {
    "collapsed": false
   },
   "outputs": [],
   "source": [
    "def power(As, Ap, xs, xp, xm):\n",
    "    rsm = sqrt((xm[0] - xs[0])**2 + (xm[1] - xs[1])**2)\n",
    "    rpm = sqrt((xm[0] - xp[0])**2 + (xm[1] - xp[1])**2)\n",
    "    Pm = Ap*exp(-1j*k*rpm)/rpm + (As[0] +1j*As[1])*exp(-1j*k*rsm)/rsm\n",
    "    return absolute(Pm)**2\n"
   ]
  },
  {
   "cell_type": "markdown",
   "metadata": {},
   "source": [
    "...and import a [function that minimizes other functions:](http://docs.scipy.org/doc/scipy-0.16.1/reference/generated/scipy.optimize.fmin.html)"
   ]
  },
  {
   "cell_type": "code",
   "execution_count": 33,
   "metadata": {
    "collapsed": true
   },
   "outputs": [],
   "source": [
    "from scipy.optimize import fmin"
   ]
  },
  {
   "cell_type": "markdown",
   "metadata": {},
   "source": [
    "...we can use it to find the value for $A_s$ that mimimizes the sound power at $\\mathbf{x}_m$."
   ]
  },
  {
   "cell_type": "code",
   "execution_count": 44,
   "metadata": {
    "collapsed": false
   },
   "outputs": [
    {
     "name": "stdout",
     "output_type": "stream",
     "text": [
      "Optimization terminated successfully.\n",
      "         Current function value: 0.000000\n",
      "         Iterations: 61\n",
      "         Function evaluations: 119\n"
     ]
    },
    {
     "data": {
      "text/plain": [
       "array([ -9.99962635e-01,   3.76140017e-05])"
      ]
     },
     "execution_count": 44,
     "metadata": {},
     "output_type": "execute_result"
    }
   ],
   "source": [
    "fmin(power, [0, 0], args = (1.0, (5, 0), (0, 5), (0, 0)))"
   ]
  },
  {
   "cell_type": "markdown",
   "metadata": {},
   "source": [
    "### Final *assessed* exercise\n",
    "In this exercise you will use a time-harmonic point source with complex amplitude $A_s$ to control the sound power at a point in a plane wave. Create a new notebook containing all thte explanation and code necessary to see what you've done. Your note book should include  the following:\n",
    "\n",
    "1. Code that generates an animated wavefield with a plane wave and he field of a point source superimposed.\n",
    "\n",
    "2. Code that generates a surface plot that shows how $W_m$ varies with $\\Re\\{A_s\\}$ and $\\Im\\{A_s\\}$ for this problem.\n",
    "\n",
    "3. Code that uses `fmin()` to find the value of $A_s$ that minimizes sound power at a point $\\mathbf{x}_m$ in the field.\n",
    "\n",
    "4. Code that generates another animation that uses the value of $A_s$ that you found in the previous step.\n",
    "\n",
    "5. Enough mark-up cells that someone could read the whole notebok and understand what you're doing.\n",
    "\n",
    "You can choose the parameters of the primary plane wavefield as long as it isn't silent and you can choose the location to control at $\\mathbf{x}_m$.\n",
    "\n",
    "Email me your notebook by the end of the month."
   ]
  },
  {
   "cell_type": "code",
   "execution_count": null,
   "metadata": {
    "collapsed": true
   },
   "outputs": [],
   "source": []
  }
 ],
 "metadata": {
  "kernelspec": {
   "display_name": "Python 2",
   "language": "python",
   "name": "python2"
  },
  "language_info": {
   "codemirror_mode": {
    "name": "ipython",
    "version": 2
   },
   "file_extension": ".py",
   "mimetype": "text/x-python",
   "name": "python",
   "nbconvert_exporter": "python",
   "pygments_lexer": "ipython2",
   "version": "2.7.10"
  }
 },
 "nbformat": 4,
 "nbformat_minor": 0
}
