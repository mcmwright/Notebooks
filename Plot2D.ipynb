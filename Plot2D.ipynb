{
 "cells": [
  {
   "cell_type": "markdown",
   "metadata": {
    "collapsed": false
   },
   "source": [
    "# Plotting Functions\n",
    "## Functions of two variables"
   ]
  },
  {
   "cell_type": "code",
   "execution_count": null,
   "metadata": {
    "collapsed": true
   },
   "outputs": [],
   "source": [
    "%pylab inline"
   ]
  },
  {
   "cell_type": "markdown",
   "metadata": {},
   "source": [
    "### Grids\n",
    "Suppose we want to make a multiplication table for schoolchildren. We could create a $12\\times 12$ array to store the answer and then use two nested for loops to fill it in.\n",
    "An easier way is to make two arrays with the numbers we want to mutiply and form their outer product."
   ]
  },
  {
   "cell_type": "code",
   "execution_count": null,
   "metadata": {
    "collapsed": true
   },
   "outputs": [],
   "source": [
    "m = arange(1,13)\n",
    "n = arange(1,13)\n",
    "outer(m, n)"
   ]
  },
  {
   "cell_type": "markdown",
   "metadata": {},
   "source": [
    "If we also want to make an addition table we can't do quite the same thing. But could we create two arrays $\\mathbf{M}$ and $\\mathbf{N}$ such that $\\mathbf{M} + \\mathbf{N}$ gives the addition table? \n",
    "\n",
    "The answer will be yes when one consists of rows containing the numbers from 1-12, while the other consists of columns like that. Furthermore once we've got those arrays we could also form our multiplication table by multiplying them, and so on. [Note that multiplying two NumPy arrays multiplies all their elements, it does **not** implement matrix multiplication.]\n",
    "\n",
    "The ability to create arrays like this is so usefual that there's a NumPy function to do so called meshgrid."
   ]
  },
  {
   "cell_type": "code",
   "execution_count": null,
   "metadata": {
    "collapsed": true
   },
   "outputs": [],
   "source": [
    "(M, N) = meshgrid(m, n)\n",
    "M, N"
   ]
  },
  {
   "cell_type": "markdown",
   "metadata": {},
   "source": [
    "We can check the addition table is produced as desired:"
   ]
  },
  {
   "cell_type": "code",
   "execution_count": null,
   "metadata": {
    "collapsed": true
   },
   "outputs": [],
   "source": [
    "M + N"
   ]
  },
  {
   "cell_type": "markdown",
   "metadata": {},
   "source": [
    "...and the multiplication table."
   ]
  },
  {
   "cell_type": "code",
   "execution_count": null,
   "metadata": {
    "collapsed": true
   },
   "outputs": [],
   "source": [
    "M*N"
   ]
  },
  {
   "cell_type": "markdown",
   "metadata": {},
   "source": [
    "In fact we can calculate any function of $m$ and $n$ over the range 1-12, such as $3mn + 2n^2$ (check a few entries in this table to see if you agree with the results."
   ]
  },
  {
   "cell_type": "code",
   "execution_count": null,
   "metadata": {
    "collapsed": true
   },
   "outputs": [],
   "source": [
    "3*M*N + 2*N**2"
   ]
  },
  {
   "cell_type": "markdown",
   "metadata": {},
   "source": [
    "The sets of values of the two variables don't need to be integers, or to be the same size. If we change $n$ so that it has only six elements:"
   ]
  },
  {
   "cell_type": "code",
   "execution_count": null,
   "metadata": {
    "collapsed": true
   },
   "outputs": [],
   "source": [
    "n = arange(10,13,.5)\n",
    "n"
   ]
  },
  {
   "cell_type": "markdown",
   "metadata": {},
   "source": [
    "then $\\mathbf{M}$ and $\\mathbf{N}$ should be $6\\times 12$ arrays."
   ]
  },
  {
   "cell_type": "code",
   "execution_count": null,
   "metadata": {
    "collapsed": true
   },
   "outputs": [],
   "source": [
    "(M, N) = meshgrid(m, n)\n",
    "M, N"
   ]
  },
  {
   "cell_type": "markdown",
   "metadata": {},
   "source": [
    "The ability to evaluate functions of two variables is very useful when calculating and plotting functions."
   ]
  },
  {
   "cell_type": "markdown",
   "metadata": {},
   "source": [
    "### Series functions\n",
    "The function $\\sin(x)/x$ occurs frequently in signal-processing. We can plot it like this:"
   ]
  },
  {
   "cell_type": "code",
   "execution_count": null,
   "metadata": {
    "collapsed": true
   },
   "outputs": [],
   "source": [
    "x = linspace(-20, 20, 1000)\n",
    "plot(x, sin(x)/x)\n",
    "ylim(-2, 2)"
   ]
  },
  {
   "cell_type": "markdown",
   "metadata": {},
   "source": [
    "Suppose we want to evaluate its series form\n",
    "$$ \\frac{\\sin x}{x} = 1 - \\frac{x^2}{3!} + \\frac{x^4}{5!} - \\frac{x^6}{7!} + \\cdots =  \\sum_{n=0}^\\infty \\frac{(-1)^n}{(2n+1)!} x^{2n} $$\n",
    "We could try"
   ]
  },
  {
   "cell_type": "code",
   "execution_count": null,
   "metadata": {
    "collapsed": true
   },
   "outputs": [],
   "source": [
    "plot(x, sin(x)/x, 'b', x, 1 - x**2/math.factorial(3) + x**4/math.factorial(5),'r')\n",
    "ylim(-2, 2)"
   ]
  },
  {
   "cell_type": "markdown",
   "metadata": {},
   "source": [
    "But this gets cumbersome very quickly.\n",
    "\n",
    "The expression in the summation above is a function of two variables, $x$ and $n$, so we can use meshgrid over a range of their values. The $n$ values, obviously, have to be integers; we've already defined $x$. We'll evaluate the first twenty terms in the series and store them in an array called $\\mathbf{S}$. First, though, we'll have to import a version of factorial() that works with 2D arrays."
   ]
  },
  {
   "cell_type": "code",
   "execution_count": null,
   "metadata": {
    "collapsed": true
   },
   "outputs": [],
   "source": [
    "from scipy import misc"
   ]
  },
  {
   "cell_type": "code",
   "execution_count": null,
   "metadata": {
    "collapsed": true
   },
   "outputs": [],
   "source": [
    "n = arange(0,20)\n",
    "(N, X) = meshgrid(n, x)\n",
    "S = (-1)**N/misc.factorial(2*N + 1)*X**(2*N)"
   ]
  },
  {
   "cell_type": "markdown",
   "metadata": {},
   "source": [
    "The columns of $\\mathbf{S}$ will be the terms of the series. We could add up the first few and plot them like this:"
   ]
  },
  {
   "cell_type": "code",
   "execution_count": null,
   "metadata": {
    "collapsed": true
   },
   "outputs": [],
   "source": [
    "plot(x, sin(x)/x, 'b', x, S[:, 0] + S[:, 1] + S[:, 2] + S[:, 3] + S[:, 4], 'r')\n",
    "ylim(-2,2)"
   ]
  },
  {
   "cell_type": "markdown",
   "metadata": {},
   "source": [
    "...but of course there's an easier way."
   ]
  },
  {
   "cell_type": "code",
   "execution_count": null,
   "metadata": {
    "collapsed": true
   },
   "outputs": [],
   "source": [
    "plot(x, sin(x)/x, 'b', x, sum(S, axis = 1), 'r')\n",
    "ylim(-2, 2)"
   ]
  },
  {
   "cell_type": "markdown",
   "metadata": {},
   "source": [
    "'axis = 1' means sum along the rows, 'axis = 0' would have summed along the columns.\n",
    "\n",
    "If we want to see how the partial sums converge we can do a cumulative sum like this."
   ]
  },
  {
   "cell_type": "code",
   "execution_count": null,
   "metadata": {
    "collapsed": true
   },
   "outputs": [],
   "source": [
    "plot(x, sin(x)/x, 'b', x, cumsum(S, axis = 1))\n",
    "ylim(-2, 2)"
   ]
  },
  {
   "cell_type": "markdown",
   "metadata": {},
   "source": [
    "### Exercise\n",
    "Plot a graph of the sum of the first twenty terms of the Weierstrass function\n",
    "$$ W(x) = \\sum_{n=0}^\\infty a^n \\cos(b^n \\pi x) $$\n",
    "with $a = \\frac{1}{2}$ and $b = 3$ over the interval $-2 < x < 2$. Don't use a for loop."
   ]
  },
  {
   "cell_type": "markdown",
   "metadata": {},
   "source": [
    "## Membrane modes\n",
    "The modes of vibration of a rectangular membrane with dimensions $a\\times b$ are given by\n",
    "$$ \\Psi_{mn}(x,y) = \\sin\\left(\\frac{\\pi mx}{a}\\right)\\sin\\left(\\frac{\\pi nx}{b}\\right). $$\n",
    "Let's examine the $(2, 1)$-mode for a $7\\times 3$ membrane. "
   ]
  },
  {
   "cell_type": "code",
   "execution_count": null,
   "metadata": {
    "collapsed": true
   },
   "outputs": [],
   "source": [
    "m, n = 2, 1\n",
    "a, b = 7, 3\n",
    "x, y = meshgrid(linspace(0, a), linspace(0, b)) # Default No. of points is 100\n",
    "Psi = sin((pi*m*x)/a)*sin((pi*n*y)/b)\n",
    "pcolor(x, y, Psi)\n",
    "axis('equal')"
   ]
  },
  {
   "cell_type": "markdown",
   "metadata": {},
   "source": [
    "If we import the mplot3d package we can show it as a 3D surface."
   ]
  },
  {
   "cell_type": "code",
   "execution_count": null,
   "metadata": {
    "collapsed": true
   },
   "outputs": [],
   "source": [
    "from mpl_toolkits.mplot3d import Axes3D"
   ]
  },
  {
   "cell_type": "code",
   "execution_count": null,
   "metadata": {
    "collapsed": true
   },
   "outputs": [],
   "source": [
    "fig = figure()\n",
    "ax = fig.gca(projection='3d')\n",
    "surf = ax.plot_surface(x, y, Psi, rstride=2, cstride=2, cmap=cm.coolwarm)\n",
    "axis('equal')\n",
    "axis('off')"
   ]
  },
  {
   "cell_type": "markdown",
   "metadata": {},
   "source": [
    "Try adjusting rstride and cstride to see what they do.\n",
    "\n",
    "We can make surface plots in different co-ordinate systems like this:"
   ]
  },
  {
   "cell_type": "code",
   "execution_count": null,
   "metadata": {
    "collapsed": true
   },
   "outputs": [],
   "source": [
    "theta, r = meshgrid(linspace(0, 2*pi), linspace(0.1, 10))\n",
    "x = r*cos(theta)\n",
    "y = r*sin(theta)\n",
    "fig = figure()\n",
    "ax = fig.gca(projection='3d')\n",
    "surf = ax.plot_surface(x,y,(3 + cos(5*theta))*sin(r)/sqrt(r), rstride=1, cstride=1, cmap=cm.cool)\n",
    "axis('equal')\n",
    "axis('off')"
   ]
  }
 ],
 "metadata": {
  "kernelspec": {
   "display_name": "Python 2",
   "language": "python",
   "name": "python2"
  },
  "language_info": {
   "codemirror_mode": {
    "name": "ipython",
    "version": 2
   },
   "file_extension": ".py",
   "mimetype": "text/x-python",
   "name": "python",
   "nbconvert_exporter": "python",
   "pygments_lexer": "ipython2",
   "version": "2.7.10"
  }
 },
 "nbformat": 4,
 "nbformat_minor": 0
}
