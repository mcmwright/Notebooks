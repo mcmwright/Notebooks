{
 "cells": [
  {
   "cell_type": "markdown",
   "metadata": {},
   "source": [
    "# My first IPython notebook\n",
    "IPython notebooks allow you to present text and Python code. The content is organised into *cells* and each cell can contain text (formatted through a system called Markdown)or code. To see how markdown works double click on this cell to show the raw markdown input. Type shift-enter to re-apply the formatting.\n",
    "\n",
    "The code cells are labelled In [ ]:. Once code has been executed the cells are numbered e.g. In [1]:, they are numbered in the order they are executed **not** the order they appear on the screen. If there is an asterisk rather than a number it means the code is still running.\n",
    "\n",
    "The next cell is a code input cell. Click on it and type shift-enter. The results should appear below."
   ]
  },
  {
   "cell_type": "code",
   "execution_count": null,
   "metadata": {
    "collapsed": true
   },
   "outputs": [],
   "source": [
    "print(\"Hello world.\")"
   ]
  },
  {
   "cell_type": "markdown",
   "metadata": {},
   "source": [
    "Enter the Python code necessary to print \"How are you today?\" in the cell below. Notice what happens with the quotes and parentheses while you type. Use shift-enter to execute it."
   ]
  },
  {
   "cell_type": "code",
   "execution_count": null,
   "metadata": {
    "collapsed": true
   },
   "outputs": [],
   "source": []
  },
  {
   "cell_type": "markdown",
   "metadata": {},
   "source": [
    "Now go up and modify the Hello World code above so that it says 'Hello Again!' and execute the cell. The ability to do this is useful, but it means that a saved notebook doesn't necessarily give a clear record of a Python session if you do this. \n",
    "\n",
    "Talking of saving noteboks, now would be a good time to select 'Save and Checkpoint' from the file menu at the top of this window. IPython autosaves changes periodically but it's always worth doing this explicitly after you've entered something you really don't want to have to type twice."
   ]
  },
  {
   "cell_type": "markdown",
   "metadata": {},
   "source": [
    "A code cell can contain multiple lines of Python code. Start a new line of code with the enter key; when you're ready to execute all the code in the cell use shift-enter. For example:"
   ]
  },
  {
   "cell_type": "code",
   "execution_count": null,
   "metadata": {
    "collapsed": true
   },
   "outputs": [],
   "source": [
    "import math\n",
    "a = 1\n",
    "b = 2\n",
    "c = a + b\n",
    "print(c)"
   ]
  },
  {
   "cell_type": "markdown",
   "metadata": {},
   "source": [
    "# Exercises\n",
    "1. Go to the Help menu and select Markdown. Use what you learn from that link to modify the first cell in this notebook so that it has a sub-heading with your name and class details.\n",
    "2. Go to the Help menu again and select User Interface Tour. Follow the instructions.\n",
    "3. Go to the Help menu yet again a select Keyboard Shortcuts. Use what you've learned to:\n",
    "  * Introduce a new blank cell between two existing ones.\n",
    "  * Reverse the order of three consecutive cells.\n",
    "4. Now put everything back the way it was.\n",
    "\n",
    "Once you've finished go the File menu and select Close and Halt which will close this tab. Then you can move on to python.ipynb."
   ]
  }
 ],
 "metadata": {
  "kernelspec": {
   "display_name": "Python 2",
   "language": "python",
   "name": "python2"
  },
  "language_info": {
   "codemirror_mode": {
    "name": "ipython",
    "version": 2
   },
   "file_extension": ".py",
   "mimetype": "text/x-python",
   "name": "python",
   "nbconvert_exporter": "python",
   "pygments_lexer": "ipython2",
   "version": "2.7.10"
  }
 },
 "nbformat": 4,
 "nbformat_minor": 0
}
