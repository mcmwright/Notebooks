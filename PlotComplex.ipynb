{
 "cells": [
  {
   "cell_type": "markdown",
   "metadata": {},
   "source": [
    "# Plotting functions\n",
    "## Complex exponentials\n",
    "The function $e^{i(\\omega t - kx)}$ and its factors $e^{i\\omega t}$ and $e^{-ikx}$ occur very often in acoustics, usually when we're considering single-frequency solutions of linear problems. Of course, all the physical quantities in acoustics are wholly real, but that doesn't mean we can just ignore the imaginary part when calculating solutions. In this section we'll try to build up a picture of what the function $f(x) = e^{-ikx}$ looks like."
   ]
  },
  {
   "cell_type": "markdown",
   "metadata": {},
   "source": [
    "We'll begin by using the pylab magic to import are numerical and plotting functions."
   ]
  },
  {
   "cell_type": "code",
   "execution_count": null,
   "metadata": {
    "collapsed": true
   },
   "outputs": [],
   "source": [
    "%pylab inline"
   ]
  },
  {
   "cell_type": "markdown",
   "metadata": {},
   "source": [
    "We'll let $x$ go from 0 to 5, and choose the wavenumber $k$ based on a wavelength of 1 metre. We'll start by trying to plot the real part."
   ]
  },
  {
   "cell_type": "code",
   "execution_count": null,
   "metadata": {
    "collapsed": true
   },
   "outputs": [],
   "source": [
    "x = linspace(0.0, 5.0, 100)\n",
    "lambda = 1.0\n",
    "k = 2*pi/lambda\n",
    "f = exp(-1j*k*x)\n",
    "plot(x, real(f))"
   ]
  },
  {
   "cell_type": "markdown",
   "metadata": {},
   "source": [
    "What went wrong? A clue was when the work lambda turned green - it's a reserved word that already has a meaning in Python. We'll have to think of another name."
   ]
  },
  {
   "cell_type": "code",
   "execution_count": null,
   "metadata": {
    "collapsed": true
   },
   "outputs": [],
   "source": [
    "x = linspace(0.0, 5.0, 100)\n",
    "lambda_f = 1.0\n",
    "k = 2*pi/lambda_f\n",
    "f = exp(-1j*k*x)\n",
    "plot(x, real(f))"
   ]
  },
  {
   "cell_type": "markdown",
   "metadata": {},
   "source": [
    "So far so good, but $f(x)$ is a complex function with a real and an imaginary part. We could show the imaginary part on the same axes. There's more than one way to do this. We can pass extra arguments to the plot() function, in which case we must specify the colour (and optionally line type) for each set of arguments:"
   ]
  },
  {
   "cell_type": "code",
   "execution_count": null,
   "metadata": {
    "collapsed": true
   },
   "outputs": [],
   "source": [
    "plot(x, real(f), 'b', x, imag(f), 'r')"
   ]
  },
  {
   "cell_type": "markdown",
   "metadata": {},
   "source": [
    "Or we could loop through a list of functions we wanted to apply:"
   ]
  },
  {
   "cell_type": "code",
   "execution_count": null,
   "metadata": {
    "collapsed": true
   },
   "outputs": [],
   "source": [
    "for fun in [real, imag]:\n",
    "    plot(x, fun(f))"
   ]
  },
  {
   "cell_type": "markdown",
   "metadata": {},
   "source": [
    "This time we got default colors but they were still different."
   ]
  },
  {
   "cell_type": "markdown",
   "metadata": {},
   "source": [
    "In either case, when you have multiple lines a legend can make it clearer which is which."
   ]
  },
  {
   "cell_type": "code",
   "execution_count": null,
   "metadata": {
    "collapsed": true
   },
   "outputs": [],
   "source": [
    "plot(x, real(f), 'b', x, imag(f), 'r')\n",
    "legend(['Real', 'Imaginary'])"
   ]
  },
  {
   "cell_type": "markdown",
   "metadata": {},
   "source": [
    "Having two lines for a single function doesn't tell us everything about the function. We might prefer to draw an Argand diagram to show the relationship between the real and imaginary parts in the complex plane."
   ]
  },
  {
   "cell_type": "code",
   "execution_count": null,
   "metadata": {
    "collapsed": true
   },
   "outputs": [],
   "source": [
    "plot(real(f), imag(f))\n",
    "axis('equal')"
   ]
  },
  {
   "cell_type": "markdown",
   "metadata": {},
   "source": [
    "This gives us some information we couldn't have got from the previous plot, but now we've lost the dependence on $x$. The problem is that we're trying to plot three quantities ($x$, $\\Re\\{f\\}$ and $Im\\{f\\}$) in two dimensions. We need a 3D plot instead. Matplotlib doesn't have much 3D capability but another package does."
   ]
  },
  {
   "cell_type": "code",
   "execution_count": null,
   "metadata": {
    "collapsed": true
   },
   "outputs": [],
   "source": [
    "from mpl_toolkits.mplot3d import Axes3D"
   ]
  },
  {
   "cell_type": "markdown",
   "metadata": {},
   "source": [
    "Plotting in 3D isn't quite as straightforward, we have to take three steps and labelling becomes different too (you can label this way in 2D if you want):"
   ]
  },
  {
   "cell_type": "code",
   "execution_count": null,
   "metadata": {
    "collapsed": true
   },
   "outputs": [],
   "source": [
    "fig = figure()                 # Create a figure object\n",
    "ax = fig.gca(projection='3d')  # Set the axes to 3D\n",
    "ax.plot(x, real(f), imag(f))   # Put the plot in the axes\n",
    "ax.set_xlabel(\"x\")\n",
    "ax.set_ylabel(\"Real\")\n",
    "ax.set_zlabel(\"Imaginary\")\n",
    "ax.set_title(\"A complex exponential\")"
   ]
  },
  {
   "cell_type": "markdown",
   "metadata": {},
   "source": [
    "Now we can see the proper structure of a complex exponential - it's a helix. We'll plot it again in a separate window so that we can rotate it and be sure."
   ]
  },
  {
   "cell_type": "code",
   "execution_count": null,
   "metadata": {
    "collapsed": true
   },
   "outputs": [],
   "source": [
    "%matplotlib   # Select the default graphics backend"
   ]
  },
  {
   "cell_type": "code",
   "execution_count": null,
   "metadata": {
    "collapsed": true
   },
   "outputs": [],
   "source": [
    "fig = figure()             \n",
    "ax = fig.gca(projection='3d')  \n",
    "ax.plot(x, real(f), imag(f))   "
   ]
  },
  {
   "cell_type": "markdown",
   "metadata": {},
   "source": [
    "It looks a little under-resolved so we'll plot it again with better resolution, and we'll  show the real and imaginary parts as 'shadows' on the side of the 'box'. We'll also reduce the wavenumber to see what effect that has (try to predict before plotting). \n",
    "\n",
    "**Make sure you understand everything that's happening here!**"
   ]
  },
  {
   "cell_type": "code",
   "execution_count": null,
   "metadata": {
    "collapsed": true
   },
   "outputs": [],
   "source": [
    "x = linspace(0.0, 5.0, 1000)\n",
    "k = 1.5*pi\n",
    "f = exp(-1j*k*x)\n",
    "fig = figure()             \n",
    "ax = fig.gca(projection='3d') \n",
    "(ref, imf) = (real(f), imag(f))                 # We'll use these several times so we'll store them as variables\n",
    "ones_x = ones_like(x)                           # An array of ones the same size as x\n",
    "ax.plot(x, ref, imf, 'm', linewidth=3)          # Make the helix thicker than its shadows\n",
    "ax.plot(x, ref, -1.5*ones_x, 'b')               # Put the shadow a little distance to the side of the helix\n",
    "ax.plot(x, 1.5*ones_x, imf, 'r')\n",
    "ax.set_ylim((-1.5, 1.5))                        # Make the y and z axes symmetrical\n",
    "ax.set_zlim((-1.5, 1.5))\n",
    "ax.set_xlabel(\"x\")\n",
    "ax.set_ylabel(\"Real\")\n",
    "ax.set_zlabel(\"Imaginary\")"
   ]
  },
  {
   "cell_type": "markdown",
   "metadata": {},
   "source": [
    "If we were to incorporate the time factor and animate $e^{\\omega t - kx} = e^{i\\omega t} \\times e^{-ikx}$ then the helix would rotate about its axis as time progressed (in which direction?). What would happen to its blue shadow on the floor of the box, representing the real part of the wave?"
   ]
  },
  {
   "cell_type": "markdown",
   "metadata": {},
   "source": [
    "## Class exercises\n",
    "For each of the following changes, try to predict how the picture should change, and the corresponding wave motion.\n",
    "\n",
    "1. Set $k = 1.5\\pi + 0.1j$.  What will happen if you change the sign of the imaginary part of the wavenumber?\n",
    "\n",
    "2. Return $k$ to its previous value and change $f = e^{ikx}$ to $f = e^{-ikx}$.\n",
    "\n",
    "3. Try $f = e^{ikx} + e^{-ikx}$. What's the effect of complex $k$ now?\n",
    "\n",
    "4. Change $f = e^{ikx}$ to $f = e^{ikx}/x$."
   ]
  },
  {
   "cell_type": "markdown",
   "metadata": {},
   "source": [
    "## Homework exercises\n",
    "Consider the complex frequency response function for a mass–spring–damper system:\n",
    "$$ H(\\omega) = \\frac{\\omega_0^2}{\\omega_0^2 - \\omega^2 + 2i\\zeta\\omega_0\\omega} $$\n",
    "with $\\omega_0 = 40$ and $\\zeta = 0.1$. \n",
    "1. Plot the real and imaginary parts of this function on the same axis over the range $0<\\omega < 100$ radians per second, with suitable labels and a legend.\n",
    "2. Learn about matplotlib's subplot() function and NumPy's absolute() and angle() functions, and use them to plot a graph  of the amplitude (in dB) above a graph of its phase in degrees both as a function of circular frequency $\\omega$.\n",
    "3. Modify the graphs you've made so that the $x$-axis is linear frequency in Hz, without recalculating $H$."
   ]
  }
 ],
 "metadata": {
  "kernelspec": {
   "display_name": "Python 2",
   "language": "python",
   "name": "python2"
  },
  "language_info": {
   "codemirror_mode": {
    "name": "ipython",
    "version": 2
   },
   "file_extension": ".py",
   "mimetype": "text/x-python",
   "name": "python",
   "nbconvert_exporter": "python",
   "pygments_lexer": "ipython2",
   "version": "2.7.10"
  }
 },
 "nbformat": 4,
 "nbformat_minor": 0
}
