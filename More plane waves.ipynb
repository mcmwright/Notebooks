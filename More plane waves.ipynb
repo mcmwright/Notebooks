{
 "cells": [
  {
   "cell_type": "markdown",
   "metadata": {},
   "source": [
    "# More about plane waves"
   ]
  },
  {
   "cell_type": "code",
   "execution_count": null,
   "metadata": {
    "collapsed": true
   },
   "outputs": [],
   "source": [
    "%pylab\n",
    "from mpl_toolkits.mplot3d import Axes3D\n",
    "import matplotlib.animation as animation\n",
    "def circspace(N):\n",
    "    return linspace(0, 2*pi*(1 - 1/N), N)"
   ]
  },
  {
   "cell_type": "markdown",
   "metadata": {},
   "source": [
    "In the *Harmonic Waves* notebook we used Python to animate a time-harmonic plane wave with\n",
    "\n",
    "$$ P(x, y) = e^{-ikx} $$\n",
    "\n",
    "and saw that it propagated in the positive $x$-direction with wavenumber $k$. Similar code is given  in the next cell - in this version $k=2\\pi$ to give a wavelength of $1$, and we're a calculating the wavefield in a $4\\times 4$ region of $(x,y)$-space to make it easy to count the waves."
   ]
  },
  {
   "cell_type": "code",
   "execution_count": null,
   "metadata": {
    "collapsed": true
   },
   "outputs": [],
   "source": [
    "x, y = meshgrid(linspace(0, 4, 150), linspace(0, 4, 150))\n",
    "k = 2*pi\n",
    "P = exp(-1j*k*x)\n",
    "\n",
    "fig = figure()\n",
    "ims = []\n",
    "\n",
    "for wt in circspace(50):\n",
    "    p = real(exp(1j*wt)*P)\n",
    "    ims.append([pcolormesh(x, y, p, cmap=cm.coolwarm)])\n",
    "    clim(-1,1)\n",
    "    axis('equal')\n",
    "    axis('off')\n",
    "\n",
    "ani = animation.ArtistAnimation(fig, ims, interval=100)\n",
    "show()"
   ]
  },
  {
   "cell_type": "markdown",
   "metadata": {},
   "source": [
    "Changing $P(x,y)$ to $e^{-iky}$ made the wave propagate in the positive $y$-direction, and it's easy to verify that that waves with $e^{ikx}$ and $e^{iky}$ propagate in the negative $x$ and $y$-directions respectively.\n",
    "\n",
    "This raises the question of what $P(x,y)$ corresponds to a wave propagating in an arbitrary given direction. Before answering this question let's try to make a wave that propagates in the direction of the line $y = x$. \n",
    "\n",
    "For this wavefield $P(x,y)$ will have to be a function of $x+y$. This is because all sets points in the plane with the same value of $x+y$ are lines parallel to the line $y=-x$ and these are wavefronts that all have the same value of $P(x,y)$. \n",
    "\n",
    "The simplest such wavefield that will have the helical structure we need for propagating waves is $P(x,y) = e^{ik(x+y)}$. Let's try it to see if it works."
   ]
  },
  {
   "cell_type": "code",
   "execution_count": null,
   "metadata": {
    "collapsed": true
   },
   "outputs": [],
   "source": [
    "fig = figure()\n",
    "ims = []\n",
    "\n",
    "k = 2*pi\n",
    "P = exp(-1j*k*(x + y))\n",
    "\n",
    "for wt in circspace(50):\n",
    "    p = real(exp(1j*wt)*P)\n",
    "    ims.append([pcolormesh(x, y, p, cmap=cm.coolwarm)])\n",
    "    clim(-1,1)\n",
    "    axis('equal')\n",
    "    axis('off')\n",
    "\n",
    "ani = animation.ArtistAnimation(fig, ims, interval=100)\n",
    "show()"
   ]
  },
  {
   "cell_type": "markdown",
   "metadata": {},
   "source": [
    "The waves are propagating in the right direction, but is the wavelength right? It's easier to check this if the picture isn't moving."
   ]
  },
  {
   "cell_type": "code",
   "execution_count": null,
   "metadata": {
    "collapsed": true
   },
   "outputs": [],
   "source": [
    "pcolormesh(x, y, real(P), cmap=cm.coolwarm)\n",
    "axis('equal')"
   ]
  },
  {
   "cell_type": "markdown",
   "metadata": {},
   "source": [
    "Leaving the axis labels on makes it easy to verify that the wavelength is to short so the wavenumber has to be reduced to make it longer. Eight waves fit along the line from $(0,0)$ to $(4,4)$  which has length $\\sqrt{4^2 + 4^2} = 4\\sqrt{2}$, so the wavelength must be $\\sqrt{2}/2$.  To get a wavelength of $1$, which is what we want when $k=2\\pi$ we need to write $P(x,y) = e^{ik(x+y)\\sqrt{2}/2}$. Let's check that worked."
   ]
  },
  {
   "cell_type": "code",
   "execution_count": null,
   "metadata": {
    "collapsed": true
   },
   "outputs": [],
   "source": [
    "P = exp(-1j*k*(x + y)*sqrt(2)/2.0)\n",
    "pcolormesh(x, y, real(P), cmap=cm.coolwarm)\n",
    "axis('equal')"
   ]
  },
  {
   "cell_type": "markdown",
   "metadata": {},
   "source": [
    "We can write our expression for the wavefield as \n",
    "\n",
    "$$P(\\mathbf{x}) = e^{-i\\mathbf{k}.\\mathbf{x}}, $$\n",
    "\n",
    "where $\\mathbf{x} = (x,y)$ and $\\mathbf{k}$ is a wavenumber-vector or *wavevector* with $|\\mathbf{k}| = k$ which points in the direction in which the wave propagates. We can recover the expressions for waves propagating in the positive $x$ and $y$-directions by setting $\\mathbf{k} = (k,0)$ and $\\mathbf{k} = (0,k)$ respectively.\n",
    "\n",
    "The same formula works for any other direction of propagation, so $P(\\mathbf{x}) = e^{-i\\mathbf{k}.\\mathbf{x}}$ with $ \\mathbf{k} = (k_x, k_y) = (k\\cos\\theta, k\\sin\\theta)$ represents a time-harmonic plane wave of wavenumber $k$ propagating at an angle $\\theta$ to the $x$-axis. The wavenumber components $k_x$ and $k_y$ satisfy $k_x^2 + k_y^2 = k^2$."
   ]
  },
  {
   "cell_type": "markdown",
   "metadata": {},
   "source": [
    "### Worked example\n",
    "Animate a wavefield with wavelength $\\lambda = 2$ propagating at $10^\\circ$ to the $x$-axis."
   ]
  },
  {
   "cell_type": "markdown",
   "metadata": {},
   "source": [
    "### Solution\n",
    "The wavenumber $k = 2\\pi/\\lambda = 2\\pi/2 = \\pi$ and the angle (in radians) is $\\theta = 10\\pi/180$, or we can use the NumPy function `deg2rad()` to convert it. We can then implement the formula for $P(\\mathbf{x})$ in NumPy:"
   ]
  },
  {
   "cell_type": "code",
   "execution_count": null,
   "metadata": {
    "collapsed": true
   },
   "outputs": [],
   "source": [
    "fig = figure()\n",
    "ims = []\n",
    "\n",
    "k = pi\n",
    "theta = deg2rad(10)\n",
    "kx, ky = k*cos(theta), k*sin(theta)\n",
    "P = exp(-1j*(kx*x + ky*y))\n",
    "\n",
    "for wt in circspace(50):\n",
    "    p = real(exp(1j*wt)*P)\n",
    "    ims.append([pcolormesh(x, y, p, cmap=cm.coolwarm)])\n",
    "    clim(-1,1)\n",
    "    axis('equal')\n",
    "    axis('off')\n",
    "\n",
    "ani = animation.ArtistAnimation(fig, ims, interval=100)\n",
    "show()"
   ]
  },
  {
   "cell_type": "markdown",
   "metadata": {},
   "source": [
    "### Exercises\n",
    "\n",
    "1. Animate a plane wave with $\\lambda = 2$ propagating at an angle $10^\\circ$ *below* the $x$-axis, i.e. at an angle of $-10^\\circ$.\n",
    "\n",
    "2. Animate the superposition of two plane waves, both with $\\lambda = 2$, travelling at $\\pm 10^\\circ$ i.e., one at $10^\\circ$ and one at $-10^\\circ$. \n",
    "\n",
    "3. Investigate the wavefields generated by superimposing pairs of waves with $\\lambda =  2$ and with angles $\\pm\\theta$ for values of theta between $0^\\circ$ and $180^\\circ$. What would you expect the wavefield to look like when $\\theta = 90^\\circ$?"
   ]
  },
  {
   "cell_type": "markdown",
   "metadata": {},
   "source": [
    "### Plane wave facts\n",
    "1. In principle, any time-harmonic wavefield can be constructed by summing plane waves with the appropriate wavenumber. \n",
    "\n",
    "2. In the same way that signals (functions of time) can be Fourier-transformed into functions of frequency, with each component corresponding to a sinusoid, wavefields (functions of space) can be Fourier-transformed into functions of wavenumber, with each component corresponding to a plane wave.\n",
    "\n",
    "3. A single-frequency diffuse field, such as you might find in a reverberation chamber away from any sources and walls, can be modelled as a superposition of many plane waves with random directions and phases."
   ]
  },
  {
   "cell_type": "markdown",
   "metadata": {},
   "source": [
    "### Exercise\n",
    "Animate such a model diffuse field using\n",
    "\n",
    "$$ P(\\mathbf{x}) = \\sum_{n=1}^N A_n e^{-i\\mathbf{k}_n.\\mathbf{x}}$$\n",
    "\n",
    "where \n",
    "\n",
    "1. The complex amplitudes $A_n$ have unit modulus and random phase i.e. $|A_n| = 1$ and $\\arg A_n = \\phi_n$ with $\\phi_n$ a random number unformly distributed between $0$ and $2\\pi$, so $A_n = e^{i\\phi_n}$.\n",
    "\n",
    "2. The wavevectors $\\mathbf{k}_n$ have modulus $k$ and random direction i.e. $\\mathbf{k}_n = (k\\cos\\theta_n,k\\sin\\theta_n)$ with $\\theta_n$ another random number unformly distributed between $0$ and $2\\pi$.\n",
    "\n",
    "We can therefore rewrite our wavefield as \n",
    "\n",
    "$$ P(\\mathbf{x}) = \\sum_{n=1}^N e^{i(\\phi_n - k_x\\cos\\theta_n - k_y\\sin\\theta_n)}$$\n",
    "\n",
    "We can use `random.uniform(low=0.0, high=2*pi, size=N)` to create an array of `N` randomly distributed angles.\n"
   ]
  }
 ],
 "metadata": {
  "kernelspec": {
   "display_name": "Python 2",
   "language": "python",
   "name": "python2"
  },
  "language_info": {
   "codemirror_mode": {
    "name": "ipython",
    "version": 2
   },
   "file_extension": ".py",
   "mimetype": "text/x-python",
   "name": "python",
   "nbconvert_exporter": "python",
   "pygments_lexer": "ipython2",
   "version": "2.7.10"
  }
 },
 "nbformat": 4,
 "nbformat_minor": 0
}
