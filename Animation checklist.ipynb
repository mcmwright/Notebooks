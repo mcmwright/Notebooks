{
 "cells": [
  {
   "cell_type": "markdown",
   "metadata": {},
   "source": [
    "# Animator's Checklist\n",
    "Asking yourself these questions may help you decide how to approach an animation."
   ]
  },
  {
   "cell_type": "markdown",
   "metadata": {},
   "source": [
    "### Do I actually need an animation?\n",
    "Could I convey the information I want to with a static plot, for example with multiple lines? If so it's worth considering doing so - static plots are easier to include in reports than animations."
   ]
  },
  {
   "cell_type": "markdown",
   "metadata": {},
   "source": [
    "### What quantity do I want to change from frame to frame?\n",
    "Usually this will be time, but you might  want to show the effect of changing another parameter, such as wavenumber, from frame to frame instead. If you want to change more than one variable between frames together then stop and think about whether the result makes physical sense. \n",
    "\n",
    "The rest of this checklist assumes that time will be changing, if it's something else just substitute that for time in the following. The thing we want to animate will be referred to as the *function*. Most of the functions we've considered so far can be factorized into the product of two simpler functions, one that depends on time and one that depends on space."
   ]
  },
  {
   "cell_type": "markdown",
   "metadata": {},
   "source": [
    "### How many *independent* variables, other than time, are there?\n",
    "The **independent variables** are the things that our function is a function of. \n",
    " - If there's just one then our function is defined on a line, and we would usually use linspace() to create a single one-dimensional array of values for that independent variable. \n",
    " - If there are two independent variables then the function is defined over a two-dimensional space, and we would use meshgrid() to create a pair of two-dimensional arrays, one for each of the independent variables.\n",
    " - We haven't looked at any cases with three independent variables yet, but they arise naturally in acoustics (a pressure field $p(x,y,z,t)$ is a function of three spatial independent variables plus time, for instance). We can create three-dimensional arrays with meshgrid for this case, the problem is finding a way to plot it. Often we find some way to reduce it to two independent variable e.g. by taking a 'slice' through the space over which the function is defined.\n",
    " \n",
    "In many cases the dependent variables will correspond to spatial dimensions, but that needn't be the case; for a function of a complex quantity  the independent variables would be the real and imaginary parts of  that complex quantity. If the independent variables are spatial they don't need to be Cartesian; $p(r,\\theta,t)$ is a function of  two spatial independent variables and time just as much as $p(x,y,t)$ is."
   ]
  },
  {
   "cell_type": "markdown",
   "metadata": {},
   "source": [
    "### How many *dependent* variables are there?\n",
    "The **dependent** variables are the values of the function that they want to display. If it's a real scalar function, like pressure, there's just one dependent variable. If it's complex, such as a complex pressure field at a single frequency, there are two: the real and imaginary parts of the value of the function. If it's a vector field, such as fluid velocity there will be as many dependent variables as there are elements of the vector. So the velocity field for a three-dimensional fluid flow is defined by the function $\\mathbf{u}(\\mathbf{x},t)$ where $\\mathbf{u} = (u,v,w)$ are the three are the three *dependent* variables, and $\\mathbf{x} = (x,y,z)$ and $t$ are the four *independent* variables. \n",
    "\n",
    "When there's more than one dependent variable we have to choose how to convey the information according to the situation. \n",
    " - We could use a separate dimension of the axes for each dependent variable if there are enough dimensions to spare, as we did when we plotted $e^{i(\\omega t - kx)}$. \n",
    " - We could find some way conveying multiple values, e.g. height of a surface for modulus and colour for phase of a complex dependent variable.\n",
    " - We could plot a single valued function of multiple dependent variables, e.g. the modulus of a complex variable or the length of a vector variable.\n",
    " - We could make a separate picture for each dependent variable.\n",
    "\n",
    "The best choice will depend on the circumstances."
   ]
  },
  {
   "cell_type": "markdown",
   "metadata": {
    "collapsed": true
   },
   "source": [
    "### Summary\n",
    "Independent variables* | Dependent variables | Example function        | Python functions to use\n",
    "------------------------------|----------------------------|------------------|-----------------\n",
    "1 | 1 | $p(x,t) = \\sin(x-ct)$ | `linspace()`, `plot()`\n",
    "1 | 2 | $f(x,t) = e^{i(\\omega t - kx)}$ | `linspace()`, `plot()` (with Axes3D Imported)\n",
    "2 | 1 | $p(x,y,t) = \\Re\\{e^{i(\\omega t - kx\\cos\\theta - ky\\sin\\theta)}\\}$ | `meshgrid()`, `pcolormesh()`\n",
    "2 | 1 | $p(x,y,t) = \\Re\\{e^{i(\\omega t - kx\\cos\\theta - ky\\sin\\theta)}\\}$ | `meshgrid()`, `plot_surface()` (with Axes3D Imported)\n",
    "\n",
    "\\* apart from time.\n",
    "\n",
    "\n"
   ]
  },
  {
   "cell_type": "markdown",
   "metadata": {},
   "source": [
    "### Can I plot a single frame?\n",
    "Set $t = 0$ in your function and plot a static picture of a single frame. Once you're sure that works  you can start considering how to animate it.\n",
    "\n",
    "If your function can be factorized into time and space parts, then you just need to calculate the space part once, then you can multiply it by the time part to plot a particular frame. This can save a lot of calculation. "
   ]
  },
  {
   "cell_type": "markdown",
   "metadata": {},
   "source": [
    "### Artist or Function Animation?\n",
    " - Use artist animation if possible.\n",
    " - If artist animation won't work because your plotting function returns several objects rather than a single frame use function animation."
   ]
  },
  {
   "cell_type": "markdown",
   "metadata": {},
   "source": [
    "### What should I import?\n",
    "Start each notebook with\n",
    "\n",
    "`%pylab'\n",
    "\n",
    "`import matplotlib.animation as animation`\n",
    "\n",
    "This imports NumPy and Matplotlib, sets the graphics backend to use external figure windows and imports the animation tools. If you've already used `%pylab inline` to plot things in the notebook you can change to external plotting with\n",
    "\n",
    "`%matplotlib`\n",
    "\n",
    "If you're going to be using 3D axes then use\n",
    "\n",
    "`from mpl_toolkits.mplot3d import Axes3D`\n",
    "\n",
    "and use `ax = fig.gca(projection='3d')` to tell the figure `fig` that its axes will be three-dimensional."
   ]
  },
  {
   "cell_type": "code",
   "execution_count": null,
   "metadata": {
    "collapsed": true
   },
   "outputs": [],
   "source": []
  }
 ],
 "metadata": {
  "kernelspec": {
   "display_name": "Python 2",
   "language": "python",
   "name": "python2"
  },
  "language_info": {
   "codemirror_mode": {
    "name": "ipython",
    "version": 2
   },
   "file_extension": ".py",
   "mimetype": "text/x-python",
   "name": "python",
   "nbconvert_exporter": "python",
   "pygments_lexer": "ipython2",
   "version": "2.7.10"
  }
 },
 "nbformat": 4,
 "nbformat_minor": 0
}
