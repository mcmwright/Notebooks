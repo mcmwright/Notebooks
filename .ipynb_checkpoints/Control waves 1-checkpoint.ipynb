{
 "cells": [
  {
   "cell_type": "markdown",
   "metadata": {},
   "source": [
    "# FEEG 1001 Design and Computing\n",
    "## Acoustical Computational Design Exercise\n",
    "### Matthew  Wright mcmw@isvr.soton.ac.uk\n",
    "In this session we're going to use Python/NumPy/Matplotlib to examine waves moving in one dimension - an example of this would be low-frequency sound propagating in a slender air-filled pipe. Stated mathematically, we're interested in a function $p(x,t)$ of two variables that represents how the pressure varies with $x$, the distance along the pipe, and $t$ the time.\n",
    "\n",
    "Before we begin we'll use the `pylab` magic to import the functions from NumPy and Matplotlib that we'll need, and we'll specify that we want our plots to appear in the notebook rather than in a separate window."
   ]
  },
  {
   "cell_type": "code",
   "execution_count": 1,
   "metadata": {
    "collapsed": false
   },
   "outputs": [
    {
     "name": "stdout",
     "output_type": "stream",
     "text": [
      "Populating the interactive namespace from numpy and matplotlib\n"
     ]
    }
   ],
   "source": [
    "%pylab inline"
   ]
  },
  {
   "cell_type": "markdown",
   "metadata": {},
   "source": [
    "We'll start with a function $f(x)$ of a single variable as follows. We call this Python implementation of it `f_scalar_arg()` to remind us that we can only call it when `x` is a single number."
   ]
  },
  {
   "cell_type": "code",
   "execution_count": 2,
   "metadata": {
    "collapsed": true
   },
   "outputs": [],
   "source": [
    "def f_scalar_arg(x):\n",
    "    if 0 < x < 1:\n",
    "        return 1.0\n",
    "    elif 1 <= x < 2:\n",
    "        return x\n",
    "    else:\n",
    "        return 0.0"
   ]
  },
  {
   "cell_type": "markdown",
   "metadata": {},
   "source": [
    "We can create a corresponding function that works when the argument is an array like this:"
   ]
  },
  {
   "cell_type": "code",
   "execution_count": 3,
   "metadata": {
    "collapsed": true
   },
   "outputs": [],
   "source": [
    "f = vectorize(f_scalar_arg)"
   ]
  },
  {
   "cell_type": "markdown",
   "metadata": {},
   "source": [
    "and we can plot it like this"
   ]
  },
  {
   "cell_type": "code",
   "execution_count": 4,
   "metadata": {
    "collapsed": false
   },
   "outputs": [
    {
     "data": {
      "text/plain": [
       "<matplotlib.text.Text at 0x1dd72e8>"
      ]
     },
     "execution_count": 4,
     "metadata": {},
     "output_type": "execute_result"
    },
    {
     "data": {
      "image/png": "[encoded data removed]",
      "text/plain": [
       "<matplotlib.figure.Figure at 0x9ef3cc0>"
      ]
     },
     "metadata": {},
     "output_type": "display_data"
    }
   ],
   "source": [
    "x = linspace(-1,5,1000)\n",
    "plot(x,f(x),'b')\n",
    "axis('equal')            # Make x and y axis scales the same size \n",
    "xlabel('x')"
   ]
  },
  {
   "cell_type": "markdown",
   "metadata": {},
   "source": [
    "What happens to the line if we subtract a number from the argument before we plot it? In other words how does a graph of $f(x - \\xi)$ differ from one of $f(x)$? We ought to be able to work this out but we can check we're right by plotting both on the same axes, for a chosen value of $\\xi$, in this case $0.3$. We'll use different colours for the two lines so we can be sure which is which."
   ]
  },
  {
   "cell_type": "code",
   "execution_count": 5,
   "metadata": {
    "collapsed": false
   },
   "outputs": [
    {
     "data": {
      "text/plain": [
       "(-1.0, 5.0, 0.0, 2.0)"
      ]
     },
     "execution_count": 5,
     "metadata": {},
     "output_type": "execute_result"
    },
    {
     "data": {
      "image/png": "[encoded data removed]",
      "text/plain": [
       "<matplotlib.figure.Figure at 0x9e49ac8>"
      ]
     },
     "metadata": {},
     "output_type": "display_data"
    }
   ],
   "source": [
    "plot(x,f(x),'b', x,f(x - 0.3),'r')\n",
    "axis('equal')"
   ]
  },
  {
   "cell_type": "markdown",
   "metadata": {},
   "source": [
    "Try changing the `0.3` in the previous cell to different numbers and executing it again."
   ]
  },
  {
   "cell_type": "markdown",
   "metadata": {},
   "source": [
    "If we want the pressure field in our pipe to be a wave that moves to the right as time increases then we could make $p(x,t)$ equal to $f(x)$ with a quantity subtracted from $x$ that's proportional to $t$ e.g. $p(x,t) = f(x - ct)$. \n",
    "\n",
    "What are the dimensions of $c$? Well, $x$ has the dimensions of length (SI units: metres), so $ct$ must have the same dimensions; $t$ has the dimensions of time (SI units: seconds) so $c$ must have dimensions 'length over time' and units metres per second. \n",
    "\n",
    "For our Python version of $p(x,t)$ we'll make `c` a global variable so it has the same value in all functions."
   ]
  },
  {
   "cell_type": "code",
   "execution_count": 6,
   "metadata": {
    "collapsed": true
   },
   "outputs": [],
   "source": [
    "c = 1.0\n",
    "def p(x, t):\n",
    "    return f(x - c*t)"
   ]
  },
  {
   "cell_type": "markdown",
   "metadata": {},
   "source": [
    "Let's check that this behaves as we want, i.e. that the shape moves to the right as time increases:"
   ]
  },
  {
   "cell_type": "code",
   "execution_count": 7,
   "metadata": {
    "collapsed": false
   },
   "outputs": [
    {
     "data": {
      "text/plain": [
       "(-1.0, 5.0, 0.0, 2.0)"
      ]
     },
     "execution_count": 7,
     "metadata": {},
     "output_type": "execute_result"
    },
    {
     "data": {
      "image/png": "[encoded data removed]",
      "text/plain": [
       "<matplotlib.figure.Figure at 0x9dd21d0>"
      ]
     },
     "metadata": {},
     "output_type": "display_data"
    }
   ],
   "source": [
    "plot(x, p(x, 0), 'b',\n",
    "     x, p(x, 0.1), 'r')\n",
    "axis('equal')"
   ]
  },
  {
   "cell_type": "markdown",
   "metadata": {},
   "source": [
    "## Exercise\n",
    "\n",
    "Verify that if we increase $c$ the shape moves further in the same time interval, i.e. that $c$ is the wave speed.\n",
    "\n",
    "---"
   ]
  },
  {
   "cell_type": "markdown",
   "metadata": {},
   "source": [
    "## Moving pictures\n",
    "It would be nice to see our wave moving. We can do this in Python but we need to tell Matplotlib to produce our figures in external windows, and we need to import some more functions:"
   ]
  },
  {
   "cell_type": "code",
   "execution_count": 8,
   "metadata": {
    "collapsed": false
   },
   "outputs": [
    {
     "name": "stdout",
     "output_type": "stream",
     "text": [
      "Using matplotlib backend: Qt4Agg\n"
     ]
    }
   ],
   "source": [
    "%matplotlib\n",
    "import matplotlib.animation as animation"
   ]
  },
  {
   "cell_type": "markdown",
   "metadata": {},
   "source": [
    "The code in the following cell makes our shape move at speed $c$ for $1$ second by producing a movie with 60 'frames' and displaying each frame for 50 milliseconds."
   ]
  },
  {
   "cell_type": "code",
   "execution_count": 11,
   "metadata": {
    "collapsed": true
   },
   "outputs": [],
   "source": [
    "def g_scalar_arg(x):\n",
    "    if 3 < x < 5:\n",
    "        return -sqrt(1 - (4 - x)**2)\n",
    "    else:\n",
    "        return 0.0\n",
    "\n",
    "g = vectorize(g_scalar_arg)\n",
    "\n",
    "def p(x,t):\n",
    "    return f(x - c*t) + g(x + c*t)"
   ]
  },
  {
   "cell_type": "code",
   "execution_count": 12,
   "metadata": {
    "collapsed": false
   },
   "outputs": [],
   "source": [
    "c = 1.0\n",
    "movie = []                              # Create an empty list \n",
    "fig, ax = subplots()\n",
    "for t in linspace(0, 3, 60):            # Our movie will have 50 frames\n",
    "    frame = ax.plot(x, p(x, t), 'b', 2.5, 0, 'ro')    # Create a frame\n",
    "    axis('equal')\n",
    "    movie.append(frame)                 # Add it to the movie\n",
    "    \n",
    "ani = animation.ArtistAnimation(fig, movie, interval=50)      # Show each frame for 50 milliseconds\n",
    "fig.show() "
   ]
  },
  {
   "cell_type": "markdown",
   "metadata": {},
   "source": [
    "### Exercises\n",
    " 1. Modify the code so that the movie corresponds to five seconds of wave motion.\n",
    " 2. Make a Python version of the function $g(x) = -\\sqrt{1 - (4-x)^2}$ for $3 < x < 5$ and zero elsewhere. Plot it to make sure it represents a unit semicircle with its centre at $x = 4$.\n",
    " 3. Set $p(x, t) = g(x + ct)$ and verify that this wave moves to the left.\n",
    " 4. Set $p(x, t) = f(x - ct) + g(x + ct)$ and verify that the waves  superimpose once they move far enough."
   ]
  },
  {
   "cell_type": "markdown",
   "metadata": {},
   "source": [
    "## Surfaces\n",
    "The function $p(x,t)$ can also be plotted as a surface on 3D axes if we import suitable functions. We could make these plots inline but if we keep using external windows we can rotate the surfaces."
   ]
  },
  {
   "cell_type": "code",
   "execution_count": 13,
   "metadata": {
    "collapsed": true
   },
   "outputs": [],
   "source": [
    "from mpl_toolkits.mplot3d import Axes3D"
   ]
  },
  {
   "cell_type": "markdown",
   "metadata": {},
   "source": [
    "Then we need to use `meshgrid` to create arrays of $x$ and $t$ values."
   ]
  },
  {
   "cell_type": "code",
   "execution_count": 14,
   "metadata": {
    "collapsed": true
   },
   "outputs": [],
   "source": [
    "x, t = meshgrid(linspace(0,5,200), linspace(0,5,200))"
   ]
  },
  {
   "cell_type": "markdown",
   "metadata": {},
   "source": [
    "We'll reset our definitions of `p()` and `c` too. We'll just have the right-going wave for now."
   ]
  },
  {
   "cell_type": "code",
   "execution_count": 23,
   "metadata": {
    "collapsed": true
   },
   "outputs": [],
   "source": [
    "c = 1.0\n",
    "def p(x,t):\n",
    "    return f(x - c*t)"
   ]
  },
  {
   "cell_type": "code",
   "execution_count": 24,
   "metadata": {
    "collapsed": false
   },
   "outputs": [
    {
     "data": {
      "text/plain": [
       "(0.0, 5.0, 0.0, 5.0)"
      ]
     },
     "execution_count": 24,
     "metadata": {},
     "output_type": "execute_result"
    }
   ],
   "source": [
    "fig = figure()\n",
    "ax = fig.gca(projection='3d')\n",
    "surf = ax.plot_surface(x,t,p(x,t), rstride=5, cstride=5, cmap=cm.cool)\n",
    "ax.set_xlabel('x')\n",
    "ax.set_ylabel('t')\n",
    "axis('equal')"
   ]
  },
  {
   "cell_type": "markdown",
   "metadata": {},
   "source": [
    "The surface isn't perfectly resolved but it should be possible to see what's going on.\n",
    "### Exercises\n",
    "Try to predict the effect *before* executing the cell.\n",
    "1. Change the wave speed to $c=2$ and re-plot the surface. \n",
    "2. Set $c = 1$ again and set $p(x,t) = g(x + ct)$ and re-plot.\n",
    "3. Set $p(x,t) = f(x-ct) + g(x+ct)$ and re-plot.\n",
    "\n",
    "---"
   ]
  },
  {
   "cell_type": "markdown",
   "metadata": {},
   "source": [
    "We've just been choosing definitions for $p(x,t)$ that happen to correspond to plausible-looking waves. To verify that they corespond to physical behaviour we should substitute them into the wave equation (a partial differential equation) to see if they satisfy it. For now, however, you'll just have to take it on trust that they do, whereas, for example $p(x,t) = f(x)$ (which doesn't move) doesn't.\n",
    "\n",
    "### Exercises\n",
    "1. Define a function $h(x)$, so that when you set $p(x,t) = f(x-ct)+h(x + ct)$ you get $p(2.5,t) = 0$ for all $t$. In other words you need to create a left-going wave that interferes with the right-going wave to cancel it out at the point $x = 2.5$. \n",
    "2. Plot a surface and an animation to verify that it's worked. \n",
    "3. Make a new notebook with all the imports, definitions and code necessary to illustrate this. Add markdown cells that explain what's happening. This notebook will be your first output for this design exercise.\n",
    "\n",
    "---"
   ]
  },
  {
   "cell_type": "code",
   "execution_count": null,
   "metadata": {
    "collapsed": true
   },
   "outputs": [],
   "source": []
  }
 ],
 "metadata": {
  "kernelspec": {
   "display_name": "Python 2",
   "language": "python",
   "name": "python2"
  },
  "language_info": {
   "codemirror_mode": {
    "name": "ipython",
    "version": 2
   },
   "file_extension": ".py",
   "mimetype": "text/x-python",
   "name": "python",
   "nbconvert_exporter": "python",
   "pygments_lexer": "ipython2",
   "version": "2.7.10"
  }
 },
 "nbformat": 4,
 "nbformat_minor": 0
}
