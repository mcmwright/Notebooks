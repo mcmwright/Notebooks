{
 "cells": [
  {
   "cell_type": "markdown",
   "metadata": {},
   "source": [
    "# Animation\n",
    "We've used Python (and NumPy and Matplotlib) to plot some of the functions we frequently encounter in acoustics, and this has helped us to explore how their appearance depends on parameters such as wavenumber. But acoustics is a branch of dynamics, which means that things move continuously with time: oscillators oscillate, modes vibrate, waves propagate. It's often useful to see that motion so in this notebook we're going to look at ways to animate plots of functions. Naturally we'll need to import some packages to do so."
   ]
  },
  {
   "cell_type": "code",
   "execution_count": null,
   "metadata": {
    "collapsed": true
   },
   "outputs": [],
   "source": [
    "%pylab\n",
    "import matplotlib.animation as animation"
   ]
  },
  {
   "cell_type": "markdown",
   "metadata": {
    "collapsed": true
   },
   "source": [
    "We have to use the default backend rather than inline. There are ways to make animations work inline in Jupyter notebooks but it's not straightforward.\n",
    "\n",
    "We'll start by animating a sine wave whose phase changes, so we're going to make a graph of $\\sin(2\\pi fx + \\phi)$ over the range $0<x<5$ vary as $\\phi$ changes. Let's start with a static plot:"
   ]
  },
  {
   "cell_type": "code",
   "execution_count": null,
   "metadata": {
    "collapsed": true
   },
   "outputs": [],
   "source": [
    "x = linspace(0,5,500)\n",
    "f = 1\n",
    "phi = pi\n",
    "fig, ax = subplots()         # We only want one plot but this syntax returns figure and axis objects\n",
    "ax.plot(x,sin(2*pi*f*x + phi))\n",
    "show()"
   ]
  },
  {
   "cell_type": "markdown",
   "metadata": {
    "collapsed": false
   },
   "source": [
    "Try changing the value of phi and replotting. Note that a new figure window will be opened each time; by keeping them open you can check that the picture changes as phi changes in the way you expect. Once you're happy close all the figure windows."
   ]
  },
  {
   "cell_type": "markdown",
   "metadata": {
    "collapsed": true
   },
   "source": [
    "## Artist animations\n",
    "There are two main ways of making animations in Python: artist animations and function animations. We'll start with artist animations.\n",
    "\n",
    "An animation consists of a series of images or frames, so a Python list is an obvious structure to store them. To create an artist animation you create a list of frames and use the artistanimation() function to create an animation object and play it. There are many ways to create frames (these correspond to the 'artists') but one way is just to use the object returned from a plot() command."
   ]
  },
  {
   "cell_type": "code",
   "execution_count": null,
   "metadata": {
    "collapsed": true
   },
   "outputs": [],
   "source": [
    "movie = []                                   # Create an empty list \n",
    "fig, ax = subplots()\n",
    "for phi in linspace(0, 2*pi, 25):            # Our movie will have 25 frames\n",
    "    frame = ax.plot(x,sin(2*pi*f*x + phi))   # Create a frame\n",
    "    movie.append(frame)                      # Add it to the movie\n",
    "    \n",
    "ani = animation.ArtistAnimation(fig, movie, interval=50)      # Show each frame for 50 milliseconds\n",
    "show()"
   ]
  },
  {
   "cell_type": "markdown",
   "metadata": {
    "collapsed": true
   },
   "source": [
    "This creates a moving figure, which keeps moving till you close the window. The line changes color as it moves, because the axis object ax automatically cycles through a set of colours each time it's called (why is this usually useful?). We can override this behaviour by explicitly specifying the line colour in the plot command."
   ]
  },
  {
   "cell_type": "code",
   "execution_count": null,
   "metadata": {
    "collapsed": true
   },
   "outputs": [],
   "source": [
    "movie = []\n",
    "fig, ax = subplots()\n",
    "for phi in linspace(0, 2*pi, 25):\n",
    "    frame = ax.plot(x,sin(2*pi*f*x + phi), 'b')\n",
    "    movie.append(frame)\n",
    "    \n",
    "ani = animation.ArtistAnimation(fig, movie, interval=50)\n",
    "show()"
   ]
  },
  {
   "cell_type": "markdown",
   "metadata": {},
   "source": [
    "Watch the output carefully; the motion isn't completely smooth. This is because the first and last frames are the same, so when the movie is repeated there are two identical frames. We can improve this by modifying our array of phi values."
   ]
  },
  {
   "cell_type": "code",
   "execution_count": null,
   "metadata": {
    "collapsed": true
   },
   "outputs": [],
   "source": [
    "Nframes = 40\n",
    "movie = []\n",
    "fig, ax = subplots()\n",
    "for phi in linspace(0, 2*pi*(1 - 1/Nframes), Nframes):\n",
    "    frame = ax.plot(x,sin(2*pi*f*x + phi), 'b')\n",
    "    movie.append(frame)\n",
    "    \n",
    "ani = animation.ArtistAnimation(fig, movie, interval=5)\n",
    "show()"
   ]
  },
  {
   "cell_type": "markdown",
   "metadata": {},
   "source": [
    "Notice how we've made the number of frames a variable so we only have to change it in one place.\n",
    "\n",
    "We can do the same with pcolor (pseudocolor) plots to animate wavefields. The pressure field of a dipole in a free field is\n",
    "$$ p(\\mathbf{x},t) = \\Re\\left\\{-k^2 D \\frac{\\rho c}{4\\pi r}\\left(1+\\frac{\\mathrm{i}}{kr}\\right)\\cos{\\theta}\\exp\\left[\\mathrm{i}(\\omega t - kr)\\right] \\right\\}. $$\n",
    "Compare this expression with your notes or a textbook to be sure what each variable represents. At the moment we're more interested in the shape of the waves than the amplitude so we'll choose the amplitude $D$ so that $\\rho c D=4\\pi $  and then our expression becomes\n",
    "$$ \\Re\\left\\{-k^2\\left(\\frac{1}{r}+\\frac{\\mathrm{i}}{kr^2}\\right)\\cos{\\theta}\\exp\\left[\\mathrm{i}(\\omega t - kr)\\right] \\right\\}. $$\n",
    "We'll plot $p/k^2$ to avoid having to change the colour scale when we change the wavelength.\n",
    "We can use a single variable to represent $\\omega t$ and vary it between 0 and $2\\pi$ as we did with phi."
   ]
  },
  {
   "cell_type": "code",
   "execution_count": null,
   "metadata": {
    "collapsed": true
   },
   "outputs": [],
   "source": [
    "x, y = meshgrid(linspace(-5, 5, 200), linspace(-5, 5, 200))\n",
    "r, theta = hypot(x, y), arctan2(y, x)\n",
    "k = pi\n",
    "Nframes = 40\n",
    "movie = []\n",
    "fig, ax = subplots()\n",
    "for wt in linspace(0, 2*pi*(1 - 1/Nframes), Nframes):\n",
    "    frame = ax.pcolormesh(x, y, real(-(1/r + -1j/(k*r**2))*cos(theta)*exp(1j*(wt - k*r))), \n",
    "                          cmap='coolwarm', vmin=-1, vmax=1)\n",
    "    movie.append((frame,))\n",
    "    axis('equal')\n",
    "    axis('off')\n",
    "    \n",
    "ani = animation.ArtistAnimation(fig, movie, interval=50)\n",
    "show()"
   ]
  },
  {
   "cell_type": "markdown",
   "metadata": {},
   "source": [
    "**Note:** \n",
    "1. hypot(x, y) calculates $\\sqrt{x^2 + y^2}$; arctan2(y, x) calculates $\\tan^{-1}( y/x)$ in the appropriate quadrant.\n",
    "2. pcolormesh() behaves like pcolor() but renders faster. It specifies its colour limits  with vmin and vmax.\n",
    "3. The frame has to be put in a single-element tuple before being appended to the movie.\n",
    "4. The coolwarm colour map is much better for waves than the default one, and makes the regions of high and low pressure clear. It's important to manually set the colour limits so that they're symmetrical about zero.\n",
    "5. A movie like this gives us a good picture of the spatial distribution of the wave fronts and the directivity, but it doesn't necessarily make it easy to see how the amplitude declines with radius because our visual systems aren't so good at interpreting shades of a colour map in that way; in any case the colour map will be saturated near the origin where the field is singular. Different pictures may tell us other useful things about the field."
   ]
  },
  {
   "cell_type": "markdown",
   "metadata": {},
   "source": [
    "## Function animations\n",
    "If we tried animating the helix representing $\\mathrm{e}^{-\\mathrm{i}kx}$ and its shadows the same way we'd have to find a way of turning three separate plot statements into one frame. It's easier, in this case, to make a function animation. As the name implies we define a function that plots a particular frame, and pass that function to FuncAnimation so it can construct the animation. First we'll import the 3D axes:\n"
   ]
  },
  {
   "cell_type": "code",
   "execution_count": null,
   "metadata": {
    "collapsed": true
   },
   "outputs": [],
   "source": [
    "from mpl_toolkits.mplot3d import Axes3D"
   ]
  },
  {
   "cell_type": "markdown",
   "metadata": {},
   "source": [
    "We set up a figure with some suitably sized axes and some (initially) empty line objects. The animate() function then sets those line objects to have the appropriate properties for the value of $\\omega t$."
   ]
  },
  {
   "cell_type": "code",
   "execution_count": null,
   "metadata": {
    "collapsed": true
   },
   "outputs": [],
   "source": [
    "Nframes = 40\n",
    "x = linspace(0, 5, 1000)\n",
    "ones_x = ones_like(x)       \n",
    "k = 2*pi\n",
    "fig = figure()          \n",
    "ax = fig.gca(projection='3d', xlim=(0, 5), ylim=(-1.5, 1.5), zlim=(-1.5, 1.5))  \n",
    "line_c, = ax.plot([], [], [], 'm', linewidth=3)\n",
    "line_r, = ax.plot([], [], [], 'b')\n",
    "line_i, = ax.plot([], [], [], 'r')\n",
    "ax.set_xlabel(\"x\")\n",
    "ax.set_ylabel(\"Real\")\n",
    "ax.set_zlabel(\"Imaginary\")\n",
    "\n",
    "def animate(wt):\n",
    "    f = exp(1j*(wt - k*x));\n",
    "    ref, imf = real(f), imag(f)\n",
    "    line_c.set_data(x, ref)\n",
    "    line_c.set_3d_properties(imf)\n",
    "    line_r.set_data(x, ref)\n",
    "    line_r.set_3d_properties(-1.5*ones_x)\n",
    "    line_i.set_data(x, 1.5*ones_x)\n",
    "    line_i.set_3d_properties(imf)\n",
    "\n",
    "ani = animation.FuncAnimation(fig, animate, linspace(0, 2*pi*(1 - 1/Nframes), Nframes), interval=100)\n",
    "show()"
   ]
  },
  {
   "cell_type": "markdown",
   "metadata": {},
   "source": [
    "**Note:**\n",
    "1. The animate() function doesn't need to return an object it; works by 'side-effects'.\n",
    "2. Because Matplotlib is built around 2D plots its set_data() method only sets x and y data. The z data has to be set by a new method introduced by Axes3D which is set_3d_properties.\n",
    "3. Although these animations are all time harmonic they don't have to be. Add the keyword argument repeat=False to FuncAnimation() or ArtistAnimation() if you don't want it to repeat.\n",
    "4. You can change the orientation of the helix while it's turning."
   ]
  },
  {
   "cell_type": "markdown",
   "metadata": {},
   "source": [
    "## Exercises\n",
    "1. Go through the Class Exercises for the Plot Complex notebook with the rotating helix and make sure what happens is what you expect. What happens when the wavenumber is purely imaginary? What kind of wave does this correspond to?\n",
    "2. Animate a line graph of pressure in the dipole field on-axis, i.e. as a function of $r$ when $\\theta = 0$, varying with time.\n",
    "3. Animate a 2D diffuse wavefield made by superimposing 50 plane waves with the same wavenumber and amplitude but propagating in random directions with random phase, i.e. each wave has the form $\\exp[\\mathrm{i}(\\omega t - \\mathbf{k}.\\mathbf{x} + \\phi)] = \\exp[\\mathrm{i}(\\omega t - kx\\cos\\theta  - ky \\sin \\theta + \\phi)]$ where $0\\leq\\theta<2\\pi$ and $0\\leq\\phi<2\\pi$ are random angles that are different for each wave. [Hint: make a list or array of fifty theta values and another with fifty phi values. Nest a for loop to superimpose the (complex) waves inside the for loop that steps through the frames. Don't take the real part and plot it until you've added them up.]\n",
    "4. Look through your Acoustics II notes for an example of a wavefield or other suitable function and animate it. Add markdown cells to the notebook to explain what's going on.\n",
    "5. Repeat the previous exercise with your Acoustics I notes. Send me the notebooks you create this and the previous exercise - there'll be a prize for the best one.\n",
    "6. Go through the examples at http://matplotlib.org/1.4.1/examples/animation/index.html to see what else you can do with animations in Python."
   ]
  }
 ],
 "metadata": {
  "kernelspec": {
   "display_name": "Python 2",
   "language": "python",
   "name": "python2"
  },
  "language_info": {
   "codemirror_mode": {
    "name": "ipython",
    "version": 2
   },
   "file_extension": ".py",
   "mimetype": "text/x-python",
   "name": "python",
   "nbconvert_exporter": "python",
   "pygments_lexer": "ipython2",
   "version": "2.7.10"
  }
 },
 "nbformat": 4,
 "nbformat_minor": 0
}
